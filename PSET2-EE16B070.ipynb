{
 "cells": [
  {
   "cell_type": "markdown",
   "metadata": {},
   "source": [
    "# Importing necessary packages"
   ]
  },
  {
   "cell_type": "code",
   "execution_count": 1,
   "metadata": {},
   "outputs": [],
   "source": [
    "import numpy as np\n",
    "import pandas as pd\n",
    "from graphviz import Graph\n",
    "import seaborn as sns\n",
    "from sklearn import preprocessing\n",
    "from est_MI import est_MI_JVHW\n",
    "import matplotlib.pyplot as plt"
   ]
  },
  {
   "cell_type": "markdown",
   "metadata": {},
   "source": [
    "# Preprocessing Data"
   ]
  },
  {
   "cell_type": "code",
   "execution_count": 2,
   "metadata": {},
   "outputs": [],
   "source": [
    "raw_data= pd.read_csv('alarm10K.csv')"
   ]
  },
  {
   "cell_type": "markdown",
   "metadata": {},
   "source": [
    "JVHW Estimator requires input columns of data to be integers. Hence label encode the multi-class data."
   ]
  },
  {
   "cell_type": "code",
   "execution_count": 3,
   "metadata": {},
   "outputs": [],
   "source": [
    "integerised_data=raw_data.copy()\n",
    "\n",
    "le = preprocessing.LabelEncoder()\n",
    "for i in range(0,37):\n",
    "    le.fit(raw_data.iloc[:,i])\n",
    "    integerised_data.iloc[:,i]=le.transform(raw_data.iloc[:,i])\n",
    "    \n",
    "    "
   ]
  },
  {
   "cell_type": "code",
   "execution_count": 4,
   "metadata": {},
   "outputs": [],
   "source": [
    "column_names=raw_data.columns"
   ]
  },
  {
   "cell_type": "markdown",
   "metadata": {},
   "source": [
    "# Plug-in Estimator"
   ]
  },
  {
   "cell_type": "markdown",
   "metadata": {},
   "source": [
    "Plug-in estimator for mutual information.\n",
    "$$\\tilde{I}(X,Y)= \\sum_{x,y} \\tilde{p_{XY}}(x,y)log(\\frac{\\tilde{p_{XY}}(x,y)}{\\tilde{p_X}(x)\\tilde{p_Y}(y)})$$\n",
    "\n",
    "where, $$ \\tilde{p_{XY}}(x,y)=\\frac{n_{xy}}{n_{total}}$$\n",
    "       $$ \\tilde{p_{X}}(x)=\\frac{n_{x}}{n_{total}}$$\n",
    "       $$ \\tilde{p_{Y}}(y)=\\frac{n_{y}}{n_{total}}$$"
   ]
  },
  {
   "cell_type": "code",
   "execution_count": 5,
   "metadata": {},
   "outputs": [],
   "source": [
    "def micalculator(df):\n",
    "    column_names=df.columns\n",
    "    n=len(column_names)\n",
    "    mi=np.zeros((37,37))\n",
    "    for i in range(0,n):\n",
    "        for j in range(i+1,n):\n",
    "            #print i,j,column_names[i],column_names[j]\n",
    "            joint=df.groupby([column_names[i],column_names[j]]).size().unstack(fill_value=0).stack()\n",
    "            a=np.array(df.groupby([column_names[i]]).size())\n",
    "            b=np.array(df.groupby([column_names[j]]).size())\n",
    "            lena=len(a)\n",
    "            lenb=len(b)\n",
    "            a=a/float(len(df))\n",
    "            b=b/float(len(df))\n",
    "            prob_joint=np.array(joint).reshape((lena,lenb))\n",
    "            prob_joint=prob_joint/float(len(df))\n",
    "            #print prob_joint\n",
    "            m_info_ab=0.0\n",
    "            for k in range(0,lena):\n",
    "                for m in range(0,lenb):\n",
    "                    if(prob_joint[k][m]!=0.0):\n",
    "                        m_info_ab+=prob_joint[k][m]*np.log2(prob_joint[k][m]/(a[k]*b[m]))\n",
    "            #print m_info_ab\n",
    "            mi[i][j]=m_info_ab\n",
    "            mi[j][i]=m_info_ab\n",
    "    return mi"
   ]
  },
  {
   "cell_type": "markdown",
   "metadata": {},
   "source": [
    "# JVHW Estimator"
   ]
  },
  {
   "cell_type": "code",
   "execution_count": 6,
   "metadata": {},
   "outputs": [],
   "source": [
    "def mi_jvhw_estimator(df):\n",
    "    n=len(column_names)\n",
    "    mi_jvhw=np.zeros((n,n))\n",
    "    for i in range(0,n):\n",
    "            for j in range(i+1,n):\n",
    "                a=np.array(df.iloc[:,i])\n",
    "                b=np.array(df.iloc[:,j])\n",
    "                mi_jvhw[i][j]=est_MI_JVHW(a,b)\n",
    "                mi_jvhw[j][i]=est_MI_JVHW(a,b)\n",
    "    return mi_jvhw\n",
    "\n"
   ]
  },
  {
   "cell_type": "markdown",
   "metadata": {},
   "source": [
    "# Prim's Algorithm Implementation"
   ]
  },
  {
   "cell_type": "markdown",
   "metadata": {},
   "source": [
    "This implementation for finding $\\textbf{minimum}$ spanning tree using Prim's Algorithm is obtained from https://coderbyte.com/algorithm/find-minimum-spanning-tree-using-prims-algorithm"
   ]
  },
  {
   "cell_type": "markdown",
   "metadata": {},
   "source": [
    "I pass the negative of the mutual info matrix to this function to get the $\\textbf{maximum}$ spanning tree. "
   ]
  },
  {
   "cell_type": "code",
   "execution_count": 7,
   "metadata": {},
   "outputs": [],
   "source": [
    "def prims(V, mi):\n",
    "  vertex = 0\n",
    "  MST = []\n",
    "  edges = []\n",
    "  visited = []\n",
    "  minEdge = [None,None,float('inf')]\n",
    "  \n",
    "  # run prims algorithm until we create an MST\n",
    "  # that contains every vertex from the graph\n",
    "  while len(MST) != V-1:\n",
    "    \n",
    "    # mark this vertex as visited\n",
    "    visited.append(vertex)\n",
    "    \n",
    "    # add each edge to list of potential edges\n",
    "    for r in range(0, V):\n",
    "      if mi[vertex][r] != 0:\n",
    "        edges.append([vertex,r,mi[vertex][r]])\n",
    "        \n",
    "    # find edge with the smallest weight to a vertex\n",
    "    # that has not yet been visited\n",
    "    for e in range(0, len(edges)):\n",
    "      if edges[e][2] < minEdge[2] and edges[e][1] not in visited:\n",
    "        minEdge = edges[e]\n",
    "        \n",
    "    # remove min weight edge from list of edges\n",
    "    edges.remove(minEdge)\n",
    "\n",
    "    # push min edge to MST\n",
    "    MST.append(minEdge)\n",
    "      \n",
    "    # start at new vertex and reset min edge\n",
    "    vertex = minEdge[1]\n",
    "    minEdge = [None,None,float('inf')]\n",
    "    \n",
    "  return MST\n",
    "  \n",
    "\n",
    "\n"
   ]
  },
  {
   "cell_type": "markdown",
   "metadata": {},
   "source": [
    "# MST using Plug-in Estimator  and JVHW Estimator"
   ]
  },
  {
   "cell_type": "markdown",
   "metadata": {},
   "source": [
    "The tree is plotted and saved. The heat map of the mutual information matrix is printed."
   ]
  },
  {
   "cell_type": "code",
   "execution_count": 8,
   "metadata": {},
   "outputs": [
    {
     "name": "stdout",
     "output_type": "stream",
     "text": [
      "('Tree Weight Sum:', 12.494817553078867)\n"
     ]
    },
    {
     "data": {
      "text/plain": [
       "<matplotlib.axes._subplots.AxesSubplot at 0xdec64e0>"
      ]
     },
     "execution_count": 8,
     "metadata": {},
     "output_type": "execute_result"
    },
    {
     "data": {
      "image/png": "[encoded data removed]",
      "text/plain": [
       "<Figure size 432x288 with 2 Axes>"
      ]
     },
     "metadata": {
      "needs_background": "light"
     },
     "output_type": "display_data"
    }
   ],
   "source": [
    "mi_10k=micalculator(raw_data)\n",
    "mst= prims(37,-mi_10k)\n",
    "dot=Graph( filename='mi_10k.gv')\n",
    "tree_weight_mi_10k=0\n",
    "for f in range(0,len(mst)):\n",
    "    dot.edge(column_names[mst[f][0]],column_names[mst[f][1]])\n",
    "    tree_weight_mi_10k=tree_weight_mi_10k-mst[f][2]\n",
    "dot.view()\n",
    "print(\"Tree Weight Sum:\",tree_weight_mi_10k)\n",
    "sns.heatmap(mi_10k)"
   ]
  },
  {
   "cell_type": "code",
   "execution_count": 9,
   "metadata": {},
   "outputs": [
    {
     "name": "stdout",
     "output_type": "stream",
     "text": [
      "('Tree Weight Sum:', 12.494817553078867)\n"
     ]
    },
    {
     "data": {
      "text/plain": [
       "<matplotlib.axes._subplots.AxesSubplot at 0xe1b9a90>"
      ]
     },
     "execution_count": 9,
     "metadata": {},
     "output_type": "execute_result"
    },
    {
     "data": {
      "image/png": "[encoded data removed]",
      "text/plain": [
       "<Figure size 432x288 with 2 Axes>"
      ]
     },
     "metadata": {
      "needs_background": "light"
     },
     "output_type": "display_data"
    }
   ],
   "source": [
    "mi_jvhw_10k=mi_jvhw_estimator(integerised_data)\n",
    "mst_jvhw= prims(37,-mi_jvhw_10k)\n",
    "tree_weight_mi_jvhw_10k=0\n",
    "dot=Graph( filename='mi_jvhw_10k.gv')\n",
    "for f in range(0,len(mst_jvhw)):\n",
    "    dot.edge(column_names[mst_jvhw[f][0]],column_names[mst_jvhw[f][1]])\n",
    "    tree_weight_mi_jvhw_10k=tree_weight_mi_jvhw_10k-mst[f][2]\n",
    "dot.view()\n",
    "print(\"Tree Weight Sum:\",tree_weight_mi_jvhw_10k)\n",
    "sns.heatmap(mi_jvhw_10k)"
   ]
  },
  {
   "cell_type": "code",
   "execution_count": 10,
   "metadata": {},
   "outputs": [
    {
     "data": {
      "text/plain": [
       "<matplotlib.axes._subplots.AxesSubplot at 0xddd71d0>"
      ]
     },
     "execution_count": 10,
     "metadata": {},
     "output_type": "execute_result"
    },
    {
     "data": {
      "image/png": "[encoded data removed]",
      "text/plain": [
       "<Figure size 432x288 with 2 Axes>"
      ]
     },
     "metadata": {
      "needs_background": "light"
     },
     "output_type": "display_data"
    }
   ],
   "source": [
    "mi_diff_10k=mi_jvhw_10k-mi_10k\n",
    "sns.heatmap(mi_diff_10k)"
   ]
  },
  {
   "cell_type": "markdown",
   "metadata": {},
   "source": [
    "For 10000 points, both the estimators give the same spanning tree and the mutual info matrix is not as different either, as inferred from the heatmap of mi_diff. The difference is of the order of 0.001"
   ]
  },
  {
   "cell_type": "markdown",
   "metadata": {},
   "source": [
    "# Convergence Analysis"
   ]
  },
  {
   "cell_type": "markdown",
   "metadata": {},
   "source": [
    "The given dataset is randomly sampled to generate a dataset of reduced number of rows as specified in num_rows. Then, the maximum spanning tree is obtained based on both the estimators and sum of the graph-weights is compared to get a sense of the convergence."
   ]
  },
  {
   "cell_type": "code",
   "execution_count": 11,
   "metadata": {},
   "outputs": [],
   "source": [
    "num_rows=[100,200,400,800,1600,2000,2400,2800,3200,6400,8100,10000]\n",
    "tree_weight=np.zeros((len(num_rows),1))\n",
    "tree_weight_jvhw=np.zeros((len(num_rows),1))\n",
    "for i in range(0,len(num_rows)):\n",
    "    mi=micalculator(raw_data.sample(n=num_rows[i],random_state=0))\n",
    "    mst= prims(37,-mi)\n",
    "    for f in range(0,len(mst)):\n",
    "        tree_weight[i]=tree_weight[i]-mst[f][2]\n",
    "    #print(\"Tree Weight Sum:\",tree_weight[i])\n",
    "\n",
    "    mi_jvhw=mi_jvhw_estimator(integerised_data.sample(n=num_rows[i],random_state=0))\n",
    "    mst_jvhw= prims(37,-mi_jvhw)\n",
    "    for f in range(0,len(mst_jvhw)):\n",
    "        tree_weight_jvhw[i]=tree_weight_jvhw[i]-mst_jvhw[f][2]\n",
    "    #print(\"Tree Weight Sum:\",tree_weight_jvhw[i])"
   ]
  },
  {
   "cell_type": "code",
   "execution_count": 12,
   "metadata": {},
   "outputs": [
    {
     "data": {
      "image/png": "[encoded data removed]",
      "text/plain": [
       "<Figure size 432x288 with 1 Axes>"
      ]
     },
     "metadata": {
      "needs_background": "light"
     },
     "output_type": "display_data"
    }
   ],
   "source": [
    "plt.plot(num_rows,tree_weight,label='plug-in')\n",
    "plt.plot(num_rows,tree_weight_jvhw,label='JVHW')\n",
    "plt.legend()\n",
    "plt.xlabel('DataSet Size')\n",
    "plt.ylabel('Weight Sum of MST')\n",
    "plt.show()"
   ]
  },
  {
   "cell_type": "markdown",
   "metadata": {},
   "source": [
    "JVHW Estimator is found to be better than plug-in Estimator at all data set sizes"
   ]
  },
  {
   "cell_type": "code",
   "execution_count": null,
   "metadata": {},
   "outputs": [],
   "source": []
  }
 ],
 "metadata": {
  "kernelspec": {
   "display_name": "Python 2",
   "language": "python",
   "name": "python2"
  },
  "language_info": {
   "codemirror_mode": {
    "name": "ipython",
    "version": 2
   },
   "file_extension": ".py",
   "mimetype": "text/x-python",
   "name": "python",
   "nbconvert_exporter": "python",
   "pygments_lexer": "ipython2",
   "version": "2.7.16"
  }
 },
 "nbformat": 4,
 "nbformat_minor": 2
}
