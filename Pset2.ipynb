{
 "cells": [
  {
   "cell_type": "code",
   "execution_count": 1,
   "metadata": {},
   "outputs": [],
   "source": [
    "import numpy as np\n",
    "import pandas as pd\n",
    "from graphviz import Graph\n",
    "import seaborn as sns"
   ]
  },
  {
   "cell_type": "code",
   "execution_count": 21,
   "metadata": {},
   "outputs": [],
   "source": [
    "raw_data= pd.read_csv('alarm10K.csv')"
   ]
  },
  {
   "cell_type": "code",
   "execution_count": 22,
   "metadata": {},
   "outputs": [],
   "source": [
    "column_names=raw_data.columns"
   ]
  },
  {
   "cell_type": "code",
   "execution_count": 23,
   "metadata": {},
   "outputs": [],
   "source": [
    "mi=np.zeros((37,37))\n",
    "mi_jvhw=np.zeros((37,37))"
   ]
  },
  {
   "cell_type": "code",
   "execution_count": 24,
   "metadata": {},
   "outputs": [],
   "source": [
    "def micalculator(df):\n",
    "    column_names=df.columns\n",
    "    n=len(column_names)\n",
    "    for i in range(0,n):\n",
    "        for j in range(i+1,n):\n",
    "            #print i,j,column_names[i],column_names[j]\n",
    "            joint=df.groupby([column_names[i],column_names[j]]).size().unstack(fill_value=0).stack()\n",
    "            a=np.array(df.groupby([column_names[i]]).size())\n",
    "            b=np.array(df.groupby([column_names[j]]).size())\n",
    "            lena=len(a)\n",
    "            lenb=len(b)\n",
    "            a=a/10000.0\n",
    "            b=b/10000.0\n",
    "            prob_joint=np.array(joint).reshape((lena,lenb))\n",
    "            prob_joint=prob_joint/10000.0\n",
    "            #print prob_joint\n",
    "            m_info_ab=0.0\n",
    "            for k in range(0,lena):\n",
    "                for m in range(0,lenb):\n",
    "                    if(prob_joint[k][m]!=0.0):\n",
    "                        m_info_ab+=prob_joint[k][m]*np.log2(prob_joint[k][m]/(a[k]*b[m]))\n",
    "            #print m_info_ab\n",
    "            mi[i][j]=m_info_ab\n",
    "            mi[j][i]=m_info_ab\n",
    "    return mi"
   ]
  },
  {
   "cell_type": "code",
   "execution_count": 25,
   "metadata": {},
   "outputs": [],
   "source": [
    "mi=micalculator(raw_data)"
   ]
  },
  {
   "cell_type": "code",
   "execution_count": 26,
   "metadata": {},
   "outputs": [],
   "source": [
    "def prims(V, mi):\n",
    "  vertex = 0\n",
    "  MST = []\n",
    "  edges = []\n",
    "  visited = []\n",
    "  minEdge = [None,None,float('inf')]\n",
    "  \n",
    "  # run prims algorithm until we create an MST\n",
    "  # that contains every vertex from the graph\n",
    "  while len(MST) != V-1:\n",
    "    \n",
    "    # mark this vertex as visited\n",
    "    visited.append(vertex)\n",
    "    \n",
    "    # add each edge to list of potential edges\n",
    "    for r in range(0, V):\n",
    "      if mi[vertex][r] != 0:\n",
    "        edges.append([vertex,r,mi[vertex][r]])\n",
    "        \n",
    "    # find edge with the smallest weight to a vertex\n",
    "    # that has not yet been visited\n",
    "    for e in range(0, len(edges)):\n",
    "      if edges[e][2] < minEdge[2] and edges[e][1] not in visited:\n",
    "        minEdge = edges[e]\n",
    "        \n",
    "    # remove min weight edge from list of edges\n",
    "    edges.remove(minEdge)\n",
    "\n",
    "    # push min edge to MST\n",
    "    MST.append(minEdge)\n",
    "      \n",
    "    # start at new vertex and reset min edge\n",
    "    vertex = minEdge[1]\n",
    "    minEdge = [None,None,float('inf')]\n",
    "    \n",
    "  return MST\n",
    "  \n",
    "\n",
    "\n"
   ]
  },
  {
   "cell_type": "code",
   "execution_count": 27,
   "metadata": {},
   "outputs": [],
   "source": [
    "\n",
    "mst= prims(37,-mi)"
   ]
  },
  {
   "cell_type": "code",
   "execution_count": 28,
   "metadata": {},
   "outputs": [
    {
     "data": {
      "text/plain": [
       "'process.gv.pdf'"
      ]
     },
     "execution_count": 28,
     "metadata": {},
     "output_type": "execute_result"
    }
   ],
   "source": [
    "dot=Graph( filename='process.gv')\n",
    "for f in range(0,len(mst)):\n",
    "    dot.edge(column_names[mst[f][0]],column_names[mst[f][1]])\n",
    "dot.view()"
   ]
  },
  {
   "cell_type": "code",
   "execution_count": 29,
   "metadata": {},
   "outputs": [
    {
     "data": {
      "text/plain": [
       "<matplotlib.axes._subplots.AxesSubplot at 0x10bb4588>"
      ]
     },
     "execution_count": 29,
     "metadata": {},
     "output_type": "execute_result"
    },
    {
     "data": {
      "image/png": "[encoded data removed]",
      "text/plain": [
       "<Figure size 432x288 with 2 Axes>"
      ]
     },
     "metadata": {
      "needs_background": "light"
     },
     "output_type": "display_data"
    }
   ],
   "source": [
    "sns.heatmap(mi)"
   ]
  },
  {
   "cell_type": "code",
   "execution_count": 30,
   "metadata": {},
   "outputs": [],
   "source": [
    "from est_MI import est_MI_JVHW"
   ]
  },
  {
   "cell_type": "code",
   "execution_count": 31,
   "metadata": {},
   "outputs": [],
   "source": [
    "integerised_data=raw_data.copy()\n",
    "\n",
    "from sklearn import preprocessing\n",
    "le = preprocessing.LabelEncoder()\n",
    "for i in range(0,37):\n",
    "    le.fit(raw_data.iloc[:,i])\n",
    "    integerised_data.iloc[:,i]=le.transform(raw_data.iloc[:,i])\n",
    "    \n",
    "    "
   ]
  },
  {
   "cell_type": "code",
   "execution_count": 32,
   "metadata": {},
   "outputs": [],
   "source": [
    "n=37\n",
    "for i in range(0,n):\n",
    "        for j in range(i+1,n):\n",
    "            a=np.array(integerised_data.iloc[:,i])\n",
    "            b=np.array(integerised_data.iloc[:,j])\n",
    "            mi_jvhw[i][j]=est_MI_JVHW(a,b)\n",
    "            mi_jvhw[j][i]=est_MI_JVHW(a,b)\n",
    "\n"
   ]
  },
  {
   "cell_type": "code",
   "execution_count": 33,
   "metadata": {},
   "outputs": [
    {
     "data": {
      "text/plain": [
       "<matplotlib.axes._subplots.AxesSubplot at 0x10c29f98>"
      ]
     },
     "execution_count": 33,
     "metadata": {},
     "output_type": "execute_result"
    },
    {
     "data": {
      "image/png": "[encoded data removed]",
      "text/plain": [
       "<Figure size 432x288 with 2 Axes>"
      ]
     },
     "metadata": {
      "needs_background": "light"
     },
     "output_type": "display_data"
    }
   ],
   "source": [
    "sns.heatmap(mi_jvhw)"
   ]
  },
  {
   "cell_type": "code",
   "execution_count": 34,
   "metadata": {},
   "outputs": [],
   "source": [
    "mst_jvhw= prims(37,-mi_jvhw)"
   ]
  },
  {
   "cell_type": "code",
   "execution_count": 35,
   "metadata": {},
   "outputs": [
    {
     "data": {
      "text/plain": [
       "'process_jvhw.gv.pdf'"
      ]
     },
     "execution_count": 35,
     "metadata": {},
     "output_type": "execute_result"
    }
   ],
   "source": [
    "dot=Graph( filename='process_jvhw.gv')\n",
    "for f in range(0,len(mst_jvhw)):\n",
    "    dot.edge(column_names[mst_jvhw[f][0]],column_names[mst_jvhw[f][1]])\n",
    "dot.view()"
   ]
  },
  {
   "cell_type": "code",
   "execution_count": 36,
   "metadata": {},
   "outputs": [
    {
     "data": {
      "text/plain": [
       "<matplotlib.axes._subplots.AxesSubplot at 0x10bcb400>"
      ]
     },
     "execution_count": 36,
     "metadata": {},
     "output_type": "execute_result"
    },
    {
     "data": {
      "image/png": "[encoded data removed]",
      "text/plain": [
       "<Figure size 432x288 with 2 Axes>"
      ]
     },
     "metadata": {
      "needs_background": "light"
     },
     "output_type": "display_data"
    }
   ],
   "source": [
    "mi_diff=mi_jvhw-mi\n",
    "sns.heatmap(mi_diff)"
   ]
  },
  {
   "cell_type": "code",
   "execution_count": null,
   "metadata": {},
   "outputs": [],
   "source": []
  },
  {
   "cell_type": "code",
   "execution_count": 22,
   "metadata": {},
   "outputs": [
    {
     "name": "stdout",
     "output_type": "stream",
     "text": [
      "[['HRBP' 'HR']\n",
      " ['HR' 'HRSAT']\n",
      " ['HRSAT' 'HREKG']\n",
      " ['HR' 'CO']\n",
      " ['CO' 'STROKEVOLUME']\n",
      " ['HREKG' 'ERRCAUTER']\n",
      " ['HR' 'CATECHOL']\n",
      " ['HRBP' 'ERRLOWOUTPUT']\n",
      " ['CO' 'BP']\n",
      " ['BP' 'TPR']\n",
      " ['STROKEVOLUME' 'LVEDVOLUME']\n",
      " ['LVEDVOLUME' 'PCWP']\n",
      " ['LVEDVOLUME' 'CVP']\n",
      " ['LVEDVOLUME' 'HYPOVOLEMIA']\n",
      " ['LVEDVOLUME' 'LVFAILURE']\n",
      " ['LVFAILURE' 'HISTORY']\n",
      " ['CATECHOL' 'ARTCO2']\n",
      " ['ARTCO2' 'VENTALV']\n",
      " ['VENTALV' 'MINVOL']\n",
      " ['VENTALV' 'VENTLUNG']\n",
      " ['VENTALV' 'PVSAT']\n",
      " ['PVSAT' 'SAO2']\n",
      " ['MINVOL' 'VENTTUBE']\n",
      " ['VENTTUBE' 'VENTMACH']\n",
      " ['VENTMACH' 'MINVOLSET']\n",
      " ['VENTTUBE' 'DISCONNECT']\n",
      " ['VENTLUNG' 'EXPCO2']\n",
      " ['VENTTUBE' 'PRESS']\n",
      " ['VENTALV' 'INTUBATION']\n",
      " ['INTUBATION' 'SHUNT']\n",
      " ['PVSAT' 'FIO2']\n",
      " ['PRESS' 'KINKEDTUBE']\n",
      " ['SHUNT' 'PULMEMBOLUS']\n",
      " ['PULMEMBOLUS' 'PAP']\n",
      " ['TPR' 'ANAPHYLAXIS']\n",
      " ['VENTLUNG' 'INSUFFANESTH']]\n"
     ]
    }
   ],
   "source": [
    "#import toyplot\n",
    "# sources=[]\n",
    "# targets=[]\n",
    "# edges=[]\n",
    "# for f in range(0,len(mst)):\n",
    "#     sources.append(column_names[mst[f][0]])\n",
    "#     targets.append(column_names[mst[f][1]])\n",
    "#     edges.append([column_names[mst[f][0]],column_names[mst[f][1]]])\n",
    "    \n",
    "# edges=np.array(edges)\n",
    "# print edges\n",
    "\n",
    "# import toyplot\n",
    "# toyplot.graph(sources, targets, width=3000);\n",
    "\n",
    "# layout = toyplot.layout.Buchheim()\n",
    "# toyplot.graph(edges, layout=layout, width=2000, height=2000);"
   ]
  }
 ],
 "metadata": {
  "kernelspec": {
   "display_name": "Python 2",
   "language": "python",
   "name": "python2"
  },
  "language_info": {
   "codemirror_mode": {
    "name": "ipython",
    "version": 2
   },
   "file_extension": ".py",
   "mimetype": "text/x-python",
   "name": "python",
   "nbconvert_exporter": "python",
   "pygments_lexer": "ipython2",
   "version": "2.7.16"
  }
 },
 "nbformat": 4,
 "nbformat_minor": 2
}
